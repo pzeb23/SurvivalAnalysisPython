{
 "cells": [
  {
   "cell_type": "code",
   "execution_count": 2,
   "metadata": {},
   "outputs": [],
   "source": [
    "import pandas as pd\n",
    "import numpy as np\n",
    "import matplotlib.pyplot as plt\n",
    "import seaborn as sns\n",
    "from lifelines import KaplanMeierFitter"
   ]
  },
  {
   "cell_type": "code",
   "execution_count": 3,
   "metadata": {},
   "outputs": [],
   "source": [
    "data = pd.read_csv(\"lung.csv\")"
   ]
  },
  {
   "cell_type": "code",
   "execution_count": 4,
   "metadata": {},
   "outputs": [
    {
     "data": {
      "text/html": [
       "<div>\n",
       "<style scoped>\n",
       "    .dataframe tbody tr th:only-of-type {\n",
       "        vertical-align: middle;\n",
       "    }\n",
       "\n",
       "    .dataframe tbody tr th {\n",
       "        vertical-align: top;\n",
       "    }\n",
       "\n",
       "    .dataframe thead th {\n",
       "        text-align: right;\n",
       "    }\n",
       "</style>\n",
       "<table border=\"1\" class=\"dataframe\">\n",
       "  <thead>\n",
       "    <tr style=\"text-align: right;\">\n",
       "      <th></th>\n",
       "      <th>Unnamed: 0</th>\n",
       "      <th>inst</th>\n",
       "      <th>time</th>\n",
       "      <th>status</th>\n",
       "      <th>age</th>\n",
       "      <th>sex</th>\n",
       "      <th>ph.ecog</th>\n",
       "      <th>ph.karno</th>\n",
       "      <th>pat.karno</th>\n",
       "      <th>meal.cal</th>\n",
       "      <th>wt.loss</th>\n",
       "    </tr>\n",
       "  </thead>\n",
       "  <tbody>\n",
       "    <tr>\n",
       "      <th>0</th>\n",
       "      <td>1</td>\n",
       "      <td>3.0</td>\n",
       "      <td>306</td>\n",
       "      <td>2</td>\n",
       "      <td>74</td>\n",
       "      <td>1</td>\n",
       "      <td>1.0</td>\n",
       "      <td>90.0</td>\n",
       "      <td>100.0</td>\n",
       "      <td>1175.0</td>\n",
       "      <td>NaN</td>\n",
       "    </tr>\n",
       "    <tr>\n",
       "      <th>1</th>\n",
       "      <td>2</td>\n",
       "      <td>3.0</td>\n",
       "      <td>455</td>\n",
       "      <td>2</td>\n",
       "      <td>68</td>\n",
       "      <td>1</td>\n",
       "      <td>0.0</td>\n",
       "      <td>90.0</td>\n",
       "      <td>90.0</td>\n",
       "      <td>1225.0</td>\n",
       "      <td>15.0</td>\n",
       "    </tr>\n",
       "    <tr>\n",
       "      <th>2</th>\n",
       "      <td>3</td>\n",
       "      <td>3.0</td>\n",
       "      <td>1010</td>\n",
       "      <td>1</td>\n",
       "      <td>56</td>\n",
       "      <td>1</td>\n",
       "      <td>0.0</td>\n",
       "      <td>90.0</td>\n",
       "      <td>90.0</td>\n",
       "      <td>NaN</td>\n",
       "      <td>15.0</td>\n",
       "    </tr>\n",
       "    <tr>\n",
       "      <th>3</th>\n",
       "      <td>4</td>\n",
       "      <td>5.0</td>\n",
       "      <td>210</td>\n",
       "      <td>2</td>\n",
       "      <td>57</td>\n",
       "      <td>1</td>\n",
       "      <td>1.0</td>\n",
       "      <td>90.0</td>\n",
       "      <td>60.0</td>\n",
       "      <td>1150.0</td>\n",
       "      <td>11.0</td>\n",
       "    </tr>\n",
       "    <tr>\n",
       "      <th>4</th>\n",
       "      <td>5</td>\n",
       "      <td>1.0</td>\n",
       "      <td>883</td>\n",
       "      <td>2</td>\n",
       "      <td>60</td>\n",
       "      <td>1</td>\n",
       "      <td>0.0</td>\n",
       "      <td>100.0</td>\n",
       "      <td>90.0</td>\n",
       "      <td>NaN</td>\n",
       "      <td>0.0</td>\n",
       "    </tr>\n",
       "  </tbody>\n",
       "</table>\n",
       "</div>"
      ],
      "text/plain": [
       "   Unnamed: 0  inst  time  status  age  sex  ph.ecog  ph.karno  pat.karno  \\\n",
       "0           1   3.0   306       2   74    1      1.0      90.0      100.0   \n",
       "1           2   3.0   455       2   68    1      0.0      90.0       90.0   \n",
       "2           3   3.0  1010       1   56    1      0.0      90.0       90.0   \n",
       "3           4   5.0   210       2   57    1      1.0      90.0       60.0   \n",
       "4           5   1.0   883       2   60    1      0.0     100.0       90.0   \n",
       "\n",
       "   meal.cal  wt.loss  \n",
       "0    1175.0      NaN  \n",
       "1    1225.0     15.0  \n",
       "2       NaN     15.0  \n",
       "3    1150.0     11.0  \n",
       "4       NaN      0.0  "
      ]
     },
     "execution_count": 4,
     "metadata": {},
     "output_type": "execute_result"
    }
   ],
   "source": [
    "data.head()"
   ]
  },
  {
   "cell_type": "code",
   "execution_count": 5,
   "metadata": {},
   "outputs": [
    {
     "name": "stdout",
     "output_type": "stream",
     "text": [
      "<class 'pandas.core.frame.DataFrame'>\n",
      "RangeIndex: 228 entries, 0 to 227\n",
      "Data columns (total 11 columns):\n",
      "Unnamed: 0    228 non-null int64\n",
      "inst          227 non-null float64\n",
      "time          228 non-null int64\n",
      "status        228 non-null int64\n",
      "age           228 non-null int64\n",
      "sex           228 non-null int64\n",
      "ph.ecog       227 non-null float64\n",
      "ph.karno      227 non-null float64\n",
      "pat.karno     225 non-null float64\n",
      "meal.cal      181 non-null float64\n",
      "wt.loss       214 non-null float64\n",
      "dtypes: float64(6), int64(5)\n",
      "memory usage: 19.7 KB\n"
     ]
    }
   ],
   "source": [
    "data.info()"
   ]
  },
  {
   "cell_type": "code",
   "execution_count": 6,
   "metadata": {},
   "outputs": [
    {
     "data": {
      "text/plain": [
       "<matplotlib.axes._subplots.AxesSubplot at 0x7fe228da9650>"
      ]
     },
     "execution_count": 6,
     "metadata": {},
     "output_type": "execute_result"
    },
    {
     "data": {
      "image/png": "[encoded data removed]",
      "text/plain": [
       "<Figure size 432x288 with 1 Axes>"
      ]
     },
     "metadata": {
      "needs_background": "light"
     },
     "output_type": "display_data"
    }
   ],
   "source": [
    "data[\"age\"].hist()"
   ]
  },
  {
   "cell_type": "code",
   "execution_count": 54,
   "metadata": {},
   "outputs": [
    {
     "data": {
      "text/plain": [
       "<matplotlib.axes._subplots.AxesSubplot at 0x7fe22ab8e0d0>"
      ]
     },
     "execution_count": 54,
     "metadata": {},
     "output_type": "execute_result"
    },
    {
     "data": {
      "image/png": "[encoded data removed]",
      "text/plain": [
       "<Figure size 432x288 with 1 Axes>"
      ]
     },
     "metadata": {
      "needs_background": "light"
     },
     "output_type": "display_data"
    }
   ],
   "source": [
    "# detecting outliers\n",
    "sns.boxplot(x=data[\"wt.loss\"])"
   ]
  },
  {
   "cell_type": "code",
   "execution_count": 67,
   "metadata": {},
   "outputs": [
    {
     "data": {
      "text/plain": [
       "<Figure size 1440x720 with 0 Axes>"
      ]
     },
     "metadata": {},
     "output_type": "display_data"
    }
   ],
   "source": [
    "# Finding the relations between the variables.\n",
    "plt.figure(figsize=(20,10))\n",
    "c= data[data.columns[2:-1]].corr()\n"
   ]
  },
  {
   "cell_type": "code",
   "execution_count": 68,
   "metadata": {},
   "outputs": [
    {
     "data": {
      "text/html": [
       "<div>\n",
       "<style scoped>\n",
       "    .dataframe tbody tr th:only-of-type {\n",
       "        vertical-align: middle;\n",
       "    }\n",
       "\n",
       "    .dataframe tbody tr th {\n",
       "        vertical-align: top;\n",
       "    }\n",
       "\n",
       "    .dataframe thead th {\n",
       "        text-align: right;\n",
       "    }\n",
       "</style>\n",
       "<table border=\"1\" class=\"dataframe\">\n",
       "  <thead>\n",
       "    <tr style=\"text-align: right;\">\n",
       "      <th></th>\n",
       "      <th>time</th>\n",
       "      <th>status</th>\n",
       "      <th>age</th>\n",
       "      <th>sex</th>\n",
       "      <th>ph.ecog</th>\n",
       "      <th>ph.karno</th>\n",
       "      <th>pat.karno</th>\n",
       "      <th>meal.cal</th>\n",
       "      <th>wt.loss</th>\n",
       "    </tr>\n",
       "  </thead>\n",
       "  <tbody>\n",
       "    <tr>\n",
       "      <th>time</th>\n",
       "      <td>1.000000</td>\n",
       "      <td>-0.171183</td>\n",
       "      <td>-0.078043</td>\n",
       "      <td>0.129615</td>\n",
       "      <td>-0.200813</td>\n",
       "      <td>0.133082</td>\n",
       "      <td>0.184323</td>\n",
       "      <td>0.074373</td>\n",
       "      <td>0.008946</td>\n",
       "    </tr>\n",
       "    <tr>\n",
       "      <th>status</th>\n",
       "      <td>-0.171183</td>\n",
       "      <td>1.000000</td>\n",
       "      <td>0.149702</td>\n",
       "      <td>-0.243433</td>\n",
       "      <td>0.232764</td>\n",
       "      <td>-0.182260</td>\n",
       "      <td>-0.171504</td>\n",
       "      <td>0.023646</td>\n",
       "      <td>0.035023</td>\n",
       "    </tr>\n",
       "    <tr>\n",
       "      <th>age</th>\n",
       "      <td>-0.078043</td>\n",
       "      <td>0.149702</td>\n",
       "      <td>1.000000</td>\n",
       "      <td>-0.122167</td>\n",
       "      <td>0.193236</td>\n",
       "      <td>-0.203182</td>\n",
       "      <td>-0.126167</td>\n",
       "      <td>-0.231411</td>\n",
       "      <td>0.038148</td>\n",
       "    </tr>\n",
       "    <tr>\n",
       "      <th>sex</th>\n",
       "      <td>0.129615</td>\n",
       "      <td>-0.243433</td>\n",
       "      <td>-0.122167</td>\n",
       "      <td>1.000000</td>\n",
       "      <td>-0.020604</td>\n",
       "      <td>0.011385</td>\n",
       "      <td>0.046071</td>\n",
       "      <td>-0.168360</td>\n",
       "      <td>-0.129077</td>\n",
       "    </tr>\n",
       "    <tr>\n",
       "      <th>ph.ecog</th>\n",
       "      <td>-0.200813</td>\n",
       "      <td>0.232764</td>\n",
       "      <td>0.193236</td>\n",
       "      <td>-0.020604</td>\n",
       "      <td>1.000000</td>\n",
       "      <td>-0.807267</td>\n",
       "      <td>-0.511221</td>\n",
       "      <td>-0.098510</td>\n",
       "      <td>0.187589</td>\n",
       "    </tr>\n",
       "    <tr>\n",
       "      <th>ph.karno</th>\n",
       "      <td>0.133082</td>\n",
       "      <td>-0.182260</td>\n",
       "      <td>-0.203182</td>\n",
       "      <td>0.011385</td>\n",
       "      <td>-0.807267</td>\n",
       "      <td>1.000000</td>\n",
       "      <td>0.520297</td>\n",
       "      <td>0.042233</td>\n",
       "      <td>-0.175435</td>\n",
       "    </tr>\n",
       "    <tr>\n",
       "      <th>pat.karno</th>\n",
       "      <td>0.184323</td>\n",
       "      <td>-0.171504</td>\n",
       "      <td>-0.126167</td>\n",
       "      <td>0.046071</td>\n",
       "      <td>-0.511221</td>\n",
       "      <td>0.520297</td>\n",
       "      <td>1.000000</td>\n",
       "      <td>0.165759</td>\n",
       "      <td>-0.171991</td>\n",
       "    </tr>\n",
       "    <tr>\n",
       "      <th>meal.cal</th>\n",
       "      <td>0.074373</td>\n",
       "      <td>0.023646</td>\n",
       "      <td>-0.231411</td>\n",
       "      <td>-0.168360</td>\n",
       "      <td>-0.098510</td>\n",
       "      <td>0.042233</td>\n",
       "      <td>0.165759</td>\n",
       "      <td>1.000000</td>\n",
       "      <td>-0.102572</td>\n",
       "    </tr>\n",
       "    <tr>\n",
       "      <th>wt.loss</th>\n",
       "      <td>0.008946</td>\n",
       "      <td>0.035023</td>\n",
       "      <td>0.038148</td>\n",
       "      <td>-0.129077</td>\n",
       "      <td>0.187589</td>\n",
       "      <td>-0.175435</td>\n",
       "      <td>-0.171991</td>\n",
       "      <td>-0.102572</td>\n",
       "      <td>1.000000</td>\n",
       "    </tr>\n",
       "  </tbody>\n",
       "</table>\n",
       "</div>"
      ],
      "text/plain": [
       "               time    status       age       sex   ph.ecog  ph.karno  \\\n",
       "time       1.000000 -0.171183 -0.078043  0.129615 -0.200813  0.133082   \n",
       "status    -0.171183  1.000000  0.149702 -0.243433  0.232764 -0.182260   \n",
       "age       -0.078043  0.149702  1.000000 -0.122167  0.193236 -0.203182   \n",
       "sex        0.129615 -0.243433 -0.122167  1.000000 -0.020604  0.011385   \n",
       "ph.ecog   -0.200813  0.232764  0.193236 -0.020604  1.000000 -0.807267   \n",
       "ph.karno   0.133082 -0.182260 -0.203182  0.011385 -0.807267  1.000000   \n",
       "pat.karno  0.184323 -0.171504 -0.126167  0.046071 -0.511221  0.520297   \n",
       "meal.cal   0.074373  0.023646 -0.231411 -0.168360 -0.098510  0.042233   \n",
       "wt.loss    0.008946  0.035023  0.038148 -0.129077  0.187589 -0.175435   \n",
       "\n",
       "           pat.karno  meal.cal   wt.loss  \n",
       "time        0.184323  0.074373  0.008946  \n",
       "status     -0.171504  0.023646  0.035023  \n",
       "age        -0.126167 -0.231411  0.038148  \n",
       "sex         0.046071 -0.168360 -0.129077  \n",
       "ph.ecog    -0.511221 -0.098510  0.187589  \n",
       "ph.karno    0.520297  0.042233 -0.175435  \n",
       "pat.karno   1.000000  0.165759 -0.171991  \n",
       "meal.cal    0.165759  1.000000 -0.102572  \n",
       "wt.loss    -0.171991 -0.102572  1.000000  "
      ]
     },
     "execution_count": 68,
     "metadata": {},
     "output_type": "execute_result"
    },
    {
     "data": {
      "image/png": "[encoded data removed]",
      "text/plain": [
       "<Figure size 432x288 with 2 Axes>"
      ]
     },
     "metadata": {
      "needs_background": "light"
     },
     "output_type": "display_data"
    }
   ],
   "source": [
    "sns.heatmap(c,cmap=\"BuPu_r\",annot=True)\n",
    "c"
   ]
  },
  {
   "cell_type": "code",
   "execution_count": 7,
   "metadata": {},
   "outputs": [
    {
     "data": {
      "text/html": [
       "<div>\n",
       "<style scoped>\n",
       "    .dataframe tbody tr th:only-of-type {\n",
       "        vertical-align: middle;\n",
       "    }\n",
       "\n",
       "    .dataframe tbody tr th {\n",
       "        vertical-align: top;\n",
       "    }\n",
       "\n",
       "    .dataframe thead th {\n",
       "        text-align: right;\n",
       "    }\n",
       "</style>\n",
       "<table border=\"1\" class=\"dataframe\">\n",
       "  <thead>\n",
       "    <tr style=\"text-align: right;\">\n",
       "      <th></th>\n",
       "      <th>Unnamed: 0</th>\n",
       "      <th>inst</th>\n",
       "      <th>time</th>\n",
       "      <th>status</th>\n",
       "      <th>age</th>\n",
       "      <th>sex</th>\n",
       "      <th>ph.ecog</th>\n",
       "      <th>ph.karno</th>\n",
       "      <th>pat.karno</th>\n",
       "      <th>meal.cal</th>\n",
       "      <th>wt.loss</th>\n",
       "    </tr>\n",
       "  </thead>\n",
       "  <tbody>\n",
       "    <tr>\n",
       "      <th>0</th>\n",
       "      <td>1</td>\n",
       "      <td>3.0</td>\n",
       "      <td>306</td>\n",
       "      <td>2</td>\n",
       "      <td>74</td>\n",
       "      <td>1</td>\n",
       "      <td>1.0</td>\n",
       "      <td>90.0</td>\n",
       "      <td>100.0</td>\n",
       "      <td>1175.0</td>\n",
       "      <td>NaN</td>\n",
       "    </tr>\n",
       "    <tr>\n",
       "      <th>1</th>\n",
       "      <td>2</td>\n",
       "      <td>3.0</td>\n",
       "      <td>455</td>\n",
       "      <td>2</td>\n",
       "      <td>68</td>\n",
       "      <td>1</td>\n",
       "      <td>0.0</td>\n",
       "      <td>90.0</td>\n",
       "      <td>90.0</td>\n",
       "      <td>1225.0</td>\n",
       "      <td>15.0</td>\n",
       "    </tr>\n",
       "    <tr>\n",
       "      <th>2</th>\n",
       "      <td>3</td>\n",
       "      <td>3.0</td>\n",
       "      <td>1010</td>\n",
       "      <td>1</td>\n",
       "      <td>56</td>\n",
       "      <td>1</td>\n",
       "      <td>0.0</td>\n",
       "      <td>90.0</td>\n",
       "      <td>90.0</td>\n",
       "      <td>NaN</td>\n",
       "      <td>15.0</td>\n",
       "    </tr>\n",
       "    <tr>\n",
       "      <th>3</th>\n",
       "      <td>4</td>\n",
       "      <td>5.0</td>\n",
       "      <td>210</td>\n",
       "      <td>2</td>\n",
       "      <td>57</td>\n",
       "      <td>1</td>\n",
       "      <td>1.0</td>\n",
       "      <td>90.0</td>\n",
       "      <td>60.0</td>\n",
       "      <td>1150.0</td>\n",
       "      <td>11.0</td>\n",
       "    </tr>\n",
       "    <tr>\n",
       "      <th>4</th>\n",
       "      <td>5</td>\n",
       "      <td>1.0</td>\n",
       "      <td>883</td>\n",
       "      <td>2</td>\n",
       "      <td>60</td>\n",
       "      <td>1</td>\n",
       "      <td>0.0</td>\n",
       "      <td>100.0</td>\n",
       "      <td>90.0</td>\n",
       "      <td>NaN</td>\n",
       "      <td>0.0</td>\n",
       "    </tr>\n",
       "  </tbody>\n",
       "</table>\n",
       "</div>"
      ],
      "text/plain": [
       "   Unnamed: 0  inst  time  status  age  sex  ph.ecog  ph.karno  pat.karno  \\\n",
       "0           1   3.0   306       2   74    1      1.0      90.0      100.0   \n",
       "1           2   3.0   455       2   68    1      0.0      90.0       90.0   \n",
       "2           3   3.0  1010       1   56    1      0.0      90.0       90.0   \n",
       "3           4   5.0   210       2   57    1      1.0      90.0       60.0   \n",
       "4           5   1.0   883       2   60    1      0.0     100.0       90.0   \n",
       "\n",
       "   meal.cal  wt.loss  \n",
       "0    1175.0      NaN  \n",
       "1    1225.0     15.0  \n",
       "2       NaN     15.0  \n",
       "3    1150.0     11.0  \n",
       "4       NaN      0.0  "
      ]
     },
     "execution_count": 7,
     "metadata": {},
     "output_type": "execute_result"
    }
   ],
   "source": [
    "df_num = data.select_dtypes(include = ['float64', 'int64'])\n",
    "df_num.head()"
   ]
  },
  {
   "cell_type": "code",
   "execution_count": 8,
   "metadata": {},
   "outputs": [
    {
     "data": {
      "image/png": "[encoded data removed]",
      "text/plain": [
       "<Figure size 1152x1440 with 12 Axes>"
      ]
     },
     "metadata": {
      "needs_background": "light"
     },
     "output_type": "display_data"
    }
   ],
   "source": [
    "df_num[df_num.columns[1:]].hist(figsize=(16, 20), bins=50, xlabelsize=8, ylabelsize=8); # ; avoid having the matplotlib verbose informations"
   ]
  },
  {
   "cell_type": "code",
   "execution_count": 10,
   "metadata": {},
   "outputs": [
    {
     "name": "stdout",
     "output_type": "stream",
     "text": [
      "count    228.000000\n",
      "mean      62.447368\n",
      "std        9.073457\n",
      "min       39.000000\n",
      "25%       56.000000\n",
      "50%       63.000000\n",
      "75%       69.000000\n",
      "max       82.000000\n",
      "Name: age, dtype: float64\n"
     ]
    },
    {
     "data": {
      "image/png": "[encoded data removed]",
      "text/plain": [
       "<Figure size 648x576 with 1 Axes>"
      ]
     },
     "metadata": {
      "needs_background": "light"
     },
     "output_type": "display_data"
    }
   ],
   "source": [
    "print(data['age'].describe())\n",
    "plt.figure(figsize=(9, 8))\n",
    "sns.distplot(data['age'], color='g', bins=100, hist_kws={'alpha': 0.4});"
   ]
  },
  {
   "cell_type": "code",
   "execution_count": 16,
   "metadata": {},
   "outputs": [
    {
     "data": {
      "image/png": "[encoded data removed]",
      "text/plain": [
       "<Figure size 864x288 with 3 Axes>"
      ]
     },
     "metadata": {
      "needs_background": "light"
     },
     "output_type": "display_data"
    },
    {
     "data": {
      "image/png": "[encoded data removed]",
      "text/plain": [
       "<Figure size 864x288 with 3 Axes>"
      ]
     },
     "metadata": {
      "needs_background": "light"
     },
     "output_type": "display_data"
    },
    {
     "data": {
      "image/png": "[encoded data removed]",
      "text/plain": [
       "<Figure size 864x288 with 3 Axes>"
      ]
     },
     "metadata": {
      "needs_background": "light"
     },
     "output_type": "display_data"
    },
    {
     "data": {
      "image/png": "[encoded data removed]",
      "text/plain": [
       "<Figure size 288x288 with 1 Axes>"
      ]
     },
     "metadata": {
      "needs_background": "light"
     },
     "output_type": "display_data"
    }
   ],
   "source": [
    "for i in range(1, len(df_num.columns), 3):\n",
    "    sns.pairplot(data=df_num,\n",
    "                x_vars=df_num.columns[i:i+3],\n",
    "                y_vars=['age'],\n",
    "                height = 4)"
   ]
  },
  {
   "cell_type": "code",
   "execution_count": 29,
   "metadata": {},
   "outputs": [],
   "source": [
    "kmf = KaplanMeierFitter()"
   ]
  },
  {
   "cell_type": "code",
   "execution_count": 30,
   "metadata": {},
   "outputs": [
    {
     "name": "stdout",
     "output_type": "stream",
     "text": [
      "   Unnamed: 0  inst  time  status  age  sex  ph.ecog  ph.karno  pat.karno  \\\n",
      "0           1   3.0   306       2   74    1      1.0      90.0      100.0   \n",
      "1           2   3.0   455       2   68    1      0.0      90.0       90.0   \n",
      "2           3   3.0  1010       1   56    1      0.0      90.0       90.0   \n",
      "3           4   5.0   210       2   57    1      1.0      90.0       60.0   \n",
      "4           5   1.0   883       2   60    1      0.0     100.0       90.0   \n",
      "\n",
      "   meal.cal  wt.loss  dead  \n",
      "0    1175.0      NaN   1.0  \n",
      "1    1225.0     15.0   1.0  \n",
      "2       NaN     15.0   0.0  \n",
      "3    1150.0     11.0   1.0  \n",
      "4       NaN      0.0   1.0  \n"
     ]
    }
   ],
   "source": [
    "# Organize our data :\n",
    "# If status = 1 , then dead = 0\n",
    "# If status = 2 , then dead = 1\n",
    "data.loc[data.status == 1, 'dead'] = 0\n",
    "data.loc[data.status == 2, 'dead'] = 1\n",
    "print (data.head())"
   ]
  },
  {
   "cell_type": "code",
   "execution_count": 31,
   "metadata": {},
   "outputs": [
    {
     "data": {
      "text/html": [
       "<div>\n",
       "<style scoped>\n",
       "    .dataframe tbody tr th:only-of-type {\n",
       "        vertical-align: middle;\n",
       "    }\n",
       "\n",
       "    .dataframe tbody tr th {\n",
       "        vertical-align: top;\n",
       "    }\n",
       "\n",
       "    .dataframe thead th {\n",
       "        text-align: right;\n",
       "    }\n",
       "</style>\n",
       "<table border=\"1\" class=\"dataframe\">\n",
       "  <thead>\n",
       "    <tr style=\"text-align: right;\">\n",
       "      <th></th>\n",
       "      <th>time</th>\n",
       "      <th>status</th>\n",
       "      <th>age</th>\n",
       "      <th>sex</th>\n",
       "      <th>ph.ecog</th>\n",
       "      <th>ph.karno</th>\n",
       "      <th>pat.karno</th>\n",
       "      <th>meal.cal</th>\n",
       "      <th>wt.loss</th>\n",
       "      <th>dead</th>\n",
       "    </tr>\n",
       "  </thead>\n",
       "  <tbody>\n",
       "    <tr>\n",
       "      <th>count</th>\n",
       "      <td>228.000000</td>\n",
       "      <td>228.000000</td>\n",
       "      <td>228.000000</td>\n",
       "      <td>228.000000</td>\n",
       "      <td>227.000000</td>\n",
       "      <td>227.000000</td>\n",
       "      <td>225.000000</td>\n",
       "      <td>181.000000</td>\n",
       "      <td>214.000000</td>\n",
       "      <td>228.000000</td>\n",
       "    </tr>\n",
       "    <tr>\n",
       "      <th>mean</th>\n",
       "      <td>305.232456</td>\n",
       "      <td>1.723684</td>\n",
       "      <td>62.447368</td>\n",
       "      <td>1.394737</td>\n",
       "      <td>0.951542</td>\n",
       "      <td>81.938326</td>\n",
       "      <td>79.955556</td>\n",
       "      <td>928.779006</td>\n",
       "      <td>9.831776</td>\n",
       "      <td>0.723684</td>\n",
       "    </tr>\n",
       "    <tr>\n",
       "      <th>std</th>\n",
       "      <td>210.645543</td>\n",
       "      <td>0.448159</td>\n",
       "      <td>9.073457</td>\n",
       "      <td>0.489870</td>\n",
       "      <td>0.717872</td>\n",
       "      <td>12.327955</td>\n",
       "      <td>14.623177</td>\n",
       "      <td>402.174707</td>\n",
       "      <td>13.139902</td>\n",
       "      <td>0.448159</td>\n",
       "    </tr>\n",
       "    <tr>\n",
       "      <th>min</th>\n",
       "      <td>5.000000</td>\n",
       "      <td>1.000000</td>\n",
       "      <td>39.000000</td>\n",
       "      <td>1.000000</td>\n",
       "      <td>0.000000</td>\n",
       "      <td>50.000000</td>\n",
       "      <td>30.000000</td>\n",
       "      <td>96.000000</td>\n",
       "      <td>-24.000000</td>\n",
       "      <td>0.000000</td>\n",
       "    </tr>\n",
       "    <tr>\n",
       "      <th>25%</th>\n",
       "      <td>166.750000</td>\n",
       "      <td>1.000000</td>\n",
       "      <td>56.000000</td>\n",
       "      <td>1.000000</td>\n",
       "      <td>0.000000</td>\n",
       "      <td>75.000000</td>\n",
       "      <td>70.000000</td>\n",
       "      <td>635.000000</td>\n",
       "      <td>0.000000</td>\n",
       "      <td>0.000000</td>\n",
       "    </tr>\n",
       "    <tr>\n",
       "      <th>50%</th>\n",
       "      <td>255.500000</td>\n",
       "      <td>2.000000</td>\n",
       "      <td>63.000000</td>\n",
       "      <td>1.000000</td>\n",
       "      <td>1.000000</td>\n",
       "      <td>80.000000</td>\n",
       "      <td>80.000000</td>\n",
       "      <td>975.000000</td>\n",
       "      <td>7.000000</td>\n",
       "      <td>1.000000</td>\n",
       "    </tr>\n",
       "    <tr>\n",
       "      <th>75%</th>\n",
       "      <td>396.500000</td>\n",
       "      <td>2.000000</td>\n",
       "      <td>69.000000</td>\n",
       "      <td>2.000000</td>\n",
       "      <td>1.000000</td>\n",
       "      <td>90.000000</td>\n",
       "      <td>90.000000</td>\n",
       "      <td>1150.000000</td>\n",
       "      <td>15.750000</td>\n",
       "      <td>1.000000</td>\n",
       "    </tr>\n",
       "    <tr>\n",
       "      <th>max</th>\n",
       "      <td>1022.000000</td>\n",
       "      <td>2.000000</td>\n",
       "      <td>82.000000</td>\n",
       "      <td>2.000000</td>\n",
       "      <td>3.000000</td>\n",
       "      <td>100.000000</td>\n",
       "      <td>100.000000</td>\n",
       "      <td>2600.000000</td>\n",
       "      <td>68.000000</td>\n",
       "      <td>1.000000</td>\n",
       "    </tr>\n",
       "  </tbody>\n",
       "</table>\n",
       "</div>"
      ],
      "text/plain": [
       "              time      status         age         sex     ph.ecog  \\\n",
       "count   228.000000  228.000000  228.000000  228.000000  227.000000   \n",
       "mean    305.232456    1.723684   62.447368    1.394737    0.951542   \n",
       "std     210.645543    0.448159    9.073457    0.489870    0.717872   \n",
       "min       5.000000    1.000000   39.000000    1.000000    0.000000   \n",
       "25%     166.750000    1.000000   56.000000    1.000000    0.000000   \n",
       "50%     255.500000    2.000000   63.000000    1.000000    1.000000   \n",
       "75%     396.500000    2.000000   69.000000    2.000000    1.000000   \n",
       "max    1022.000000    2.000000   82.000000    2.000000    3.000000   \n",
       "\n",
       "         ph.karno   pat.karno     meal.cal     wt.loss        dead  \n",
       "count  227.000000  225.000000   181.000000  214.000000  228.000000  \n",
       "mean    81.938326   79.955556   928.779006    9.831776    0.723684  \n",
       "std     12.327955   14.623177   402.174707   13.139902    0.448159  \n",
       "min     50.000000   30.000000    96.000000  -24.000000    0.000000  \n",
       "25%     75.000000   70.000000   635.000000    0.000000    0.000000  \n",
       "50%     80.000000   80.000000   975.000000    7.000000    1.000000  \n",
       "75%     90.000000   90.000000  1150.000000   15.750000    1.000000  \n",
       "max    100.000000  100.000000  2600.000000   68.000000    1.000000  "
      ]
     },
     "execution_count": 31,
     "metadata": {},
     "output_type": "execute_result"
    }
   ],
   "source": [
    "data[data.columns[2:]].describe()"
   ]
  },
  {
   "cell_type": "code",
   "execution_count": 32,
   "metadata": {},
   "outputs": [
    {
     "data": {
      "text/plain": [
       "<lifelines.KaplanMeierFitter:\"KM_estimate\", fitted with 228 total observations, 63 right-censored observations>"
      ]
     },
     "execution_count": 32,
     "metadata": {},
     "output_type": "execute_result"
    }
   ],
   "source": [
    "# Fit the data into model.\n",
    "# The 1st arg accepts an array or pd.Series of individual survival times\n",
    "# The 2nd arg accepts an array or pd.Series that indicates if the event \n",
    "# interest (or death) occured.\n",
    "kmf.fit(durations =  data[\"time\"], event_observed = data[\"dead\"])"
   ]
  },
  {
   "cell_type": "code",
   "execution_count": 33,
   "metadata": {},
   "outputs": [
    {
     "name": "stdout",
     "output_type": "stream",
     "text": [
      "          removed  observed  censored  entrance  at_risk\n",
      "event_at                                                \n",
      "0.0             0         0         0       228      228\n",
      "5.0             1         1         0         0      228\n",
      "11.0            3         3         0         0      227\n",
      "12.0            1         1         0         0      224\n",
      "13.0            2         2         0         0      223\n",
      "15.0            1         1         0         0      221\n",
      "26.0            1         1         0         0      220\n",
      "30.0            1         1         0         0      219\n",
      "31.0            1         1         0         0      218\n",
      "53.0            2         2         0         0      217\n",
      "54.0            1         1         0         0      215\n",
      "59.0            1         1         0         0      214\n",
      "60.0            2         2         0         0      213\n",
      "61.0            1         1         0         0      211\n",
      "62.0            1         1         0         0      210\n",
      "65.0            2         2         0         0      209\n",
      "71.0            1         1         0         0      207\n",
      "79.0            1         1         0         0      206\n",
      "81.0            2         2         0         0      205\n",
      "88.0            2         2         0         0      203\n",
      "92.0            2         1         1         0      201\n",
      "93.0            1         1         0         0      199\n",
      "95.0            2         2         0         0      198\n",
      "105.0           2         1         1         0      196\n",
      "107.0           2         2         0         0      194\n",
      "110.0           1         1         0         0      192\n",
      "116.0           1         1         0         0      191\n",
      "118.0           1         1         0         0      190\n",
      "122.0           1         1         0         0      189\n",
      "131.0           1         1         0         0      188\n",
      "...           ...       ...       ...       ...      ...\n",
      "558.0           1         1         0         0       30\n",
      "559.0           1         0         1         0       29\n",
      "567.0           1         1         0         0       28\n",
      "574.0           1         1         0         0       27\n",
      "583.0           1         1         0         0       26\n",
      "588.0           1         0         1         0       25\n",
      "613.0           1         1         0         0       24\n",
      "624.0           1         1         0         0       23\n",
      "641.0           1         1         0         0       22\n",
      "643.0           1         1         0         0       21\n",
      "654.0           1         1         0         0       20\n",
      "655.0           1         1         0         0       19\n",
      "687.0           1         1         0         0       18\n",
      "689.0           1         1         0         0       17\n",
      "705.0           1         1         0         0       16\n",
      "707.0           1         1         0         0       15\n",
      "728.0           1         1         0         0       14\n",
      "731.0           1         1         0         0       13\n",
      "735.0           1         1         0         0       12\n",
      "740.0           1         0         1         0       11\n",
      "765.0           1         1         0         0       10\n",
      "791.0           1         1         0         0        9\n",
      "806.0           1         0         1         0        8\n",
      "814.0           1         1         0         0        7\n",
      "821.0           1         0         1         0        6\n",
      "840.0           1         0         1         0        5\n",
      "883.0           1         1         0         0        4\n",
      "965.0           1         0         1         0        3\n",
      "1010.0          1         0         1         0        2\n",
      "1022.0          1         0         1         0        1\n",
      "\n",
      "[187 rows x 5 columns]\n"
     ]
    }
   ],
   "source": [
    "# Print the event table\n",
    "# Removed = Observed + Censored\n",
    "# Censored = Person that didn't die.(They are of no use to us!)\n",
    "# Observed = Persons that died.\n",
    "print (kmf.event_table)"
   ]
  },
  {
   "cell_type": "code",
   "execution_count": 34,
   "metadata": {},
   "outputs": [
    {
     "data": {
      "text/plain": [
       "1.0"
      ]
     },
     "execution_count": 34,
     "metadata": {},
     "output_type": "execute_result"
    }
   ],
   "source": [
    "# Calculating survival probability by hand :\n",
    "event_at_0 = kmf.event_table.iloc[0,:]\n",
    "# Calculate the survival probability for t=0\n",
    "surv_for_0 = (event_at_0.at_risk - event_at_0.observed)/event_at_0.at_risk\n",
    "surv_for_0"
   ]
  },
  {
   "cell_type": "code",
   "execution_count": 35,
   "metadata": {},
   "outputs": [
    {
     "data": {
      "text/plain": [
       "0.9956140350877193"
      ]
     },
     "execution_count": 35,
     "metadata": {},
     "output_type": "execute_result"
    }
   ],
   "source": [
    "# Calculating survival probability by hand :\n",
    "event_at_5 = kmf.event_table.iloc[1,:]\n",
    "# Calculate the survival probability for t=0\n",
    "surv_for_5 = (event_at_5.at_risk - event_at_5.observed)/event_at_5.at_risk\n",
    "surv_for_5"
   ]
  },
  {
   "cell_type": "code",
   "execution_count": 36,
   "metadata": {},
   "outputs": [
    {
     "data": {
      "text/plain": [
       "0.986784140969163"
      ]
     },
     "execution_count": 36,
     "metadata": {},
     "output_type": "execute_result"
    }
   ],
   "source": [
    "# Calculating survival probability by hand :\n",
    "event_at_11 = kmf.event_table.iloc[2,:]\n",
    "# Calculate the survival probability for t=0\n",
    "surv_for_11 = (event_at_11.at_risk - event_at_11.observed)/event_at_11.at_risk\n",
    "surv_for_11"
   ]
  },
  {
   "cell_type": "code",
   "execution_count": 37,
   "metadata": {},
   "outputs": [
    {
     "name": "stdout",
     "output_type": "stream",
     "text": [
      "0.9956140350877193\n",
      "0.9824561403508771\n"
     ]
    }
   ],
   "source": [
    "# Calculating actual probabilities :\n",
    "surv_after_5 = surv_for_0 * surv_for_5\n",
    "surv_after_11 = surv_for_0 * surv_for_5 * surv_for_11\n",
    "print (surv_after_5)\n",
    "print (surv_after_11)"
   ]
  },
  {
   "cell_type": "code",
   "execution_count": 38,
   "metadata": {},
   "outputs": [
    {
     "name": "stdout",
     "output_type": "stream",
     "text": [
      "0.9824561403508766\n"
     ]
    }
   ],
   "source": [
    "# Our kmf object has done all these calculations for us :\n",
    "print (kmf.predict(11))"
   ]
  },
  {
   "cell_type": "code",
   "execution_count": 39,
   "metadata": {},
   "outputs": [
    {
     "name": "stdout",
     "output_type": "stream",
     "text": [
      "0     1.000000\n",
      "5     0.995614\n",
      "11    0.982456\n",
      "12    0.978070\n",
      "Name: KM_estimate, dtype: float64\n"
     ]
    }
   ],
   "source": [
    "# For an array :\n",
    "print (kmf.predict([0,5,11,12]))"
   ]
  },
  {
   "cell_type": "code",
   "execution_count": 40,
   "metadata": {},
   "outputs": [
    {
     "name": "stdout",
     "output_type": "stream",
     "text": [
      "          KM_estimate\n",
      "timeline             \n",
      "0.0          1.000000\n",
      "5.0          0.995614\n",
      "11.0         0.982456\n",
      "12.0         0.978070\n",
      "13.0         0.969298\n",
      "15.0         0.964912\n",
      "26.0         0.960526\n",
      "30.0         0.956140\n",
      "31.0         0.951754\n",
      "53.0         0.942982\n",
      "54.0         0.938596\n",
      "59.0         0.934211\n",
      "60.0         0.925439\n",
      "61.0         0.921053\n",
      "62.0         0.916667\n",
      "65.0         0.907895\n",
      "71.0         0.903509\n",
      "79.0         0.899123\n",
      "81.0         0.890351\n",
      "88.0         0.881579\n",
      "92.0         0.877193\n",
      "93.0         0.872785\n",
      "95.0         0.863969\n",
      "105.0        0.859561\n",
      "107.0        0.850700\n",
      "110.0        0.846269\n",
      "116.0        0.841838\n",
      "118.0        0.837407\n",
      "122.0        0.832977\n",
      "131.0        0.828546\n",
      "...               ...\n",
      "558.0        0.239218\n",
      "559.0        0.239218\n",
      "567.0        0.230674\n",
      "574.0        0.222131\n",
      "583.0        0.213587\n",
      "588.0        0.213587\n",
      "613.0        0.204688\n",
      "624.0        0.195788\n",
      "641.0        0.186889\n",
      "643.0        0.177989\n",
      "654.0        0.169090\n",
      "655.0        0.160190\n",
      "687.0        0.151291\n",
      "689.0        0.142392\n",
      "705.0        0.133492\n",
      "707.0        0.124593\n",
      "728.0        0.115693\n",
      "731.0        0.106794\n",
      "735.0        0.097894\n",
      "740.0        0.097894\n",
      "765.0        0.088105\n",
      "791.0        0.078315\n",
      "806.0        0.078315\n",
      "814.0        0.067127\n",
      "821.0        0.067127\n",
      "840.0        0.067127\n",
      "883.0        0.050346\n",
      "965.0        0.050346\n",
      "1010.0       0.050346\n",
      "1022.0       0.050346\n",
      "\n",
      "[187 rows x 1 columns]\n"
     ]
    }
   ],
   "source": [
    "# To get full list :\n",
    "print (kmf.survival_function_)"
   ]
  },
  {
   "cell_type": "code",
   "execution_count": 41,
   "metadata": {},
   "outputs": [
    {
     "name": "stdout",
     "output_type": "stream",
     "text": [
      "310.0\n"
     ]
    }
   ],
   "source": [
    "# It provides the number of days where on average 50% of patients died.\n",
    "print (kmf.median_survival_time_)"
   ]
  },
  {
   "cell_type": "code",
   "execution_count": 42,
   "metadata": {},
   "outputs": [
    {
     "data": {
      "image/png": "[encoded data removed]",
      "text/plain": [
       "<Figure size 432x288 with 1 Axes>"
      ]
     },
     "metadata": {
      "needs_background": "light"
     },
     "output_type": "display_data"
    }
   ],
   "source": [
    "# Plot the graph :\n",
    "kmf.plot()\n",
    "plt.title(\"The Kaplan-Meier Estimate\")\n",
    "plt.ylabel(\"Probability of patient still alive\")\n",
    "plt.show()"
   ]
  },
  {
   "cell_type": "code",
   "execution_count": 43,
   "metadata": {},
   "outputs": [
    {
     "name": "stdout",
     "output_type": "stream",
     "text": [
      "        KM_estimate_lower_0.95  KM_estimate_upper_0.95\n",
      "0.0                   1.000000                1.000000\n",
      "5.0                   0.969277                0.999381\n",
      "11.0                  0.953935                0.993379\n",
      "12.0                  0.948120                0.990813\n",
      "13.0                  0.936682                0.985244\n",
      "15.0                  0.931066                0.982297\n",
      "26.0                  0.925514                0.979264\n",
      "30.0                  0.920019                0.976158\n",
      "31.0                  0.914576                0.972989\n",
      "53.0                  0.903830                0.966488\n",
      "54.0                  0.898519                0.963168\n",
      "59.0                  0.893245                0.959807\n",
      "60.0                  0.882796                0.952976\n",
      "61.0                  0.877617                0.949512\n",
      "62.0                  0.872466                0.946019\n",
      "65.0                  0.862238                0.938952\n",
      "71.0                  0.857160                0.935382\n",
      "79.0                  0.852103                0.931789\n",
      "81.0                  0.842050                0.924540\n",
      "88.0                  0.832071                0.917214\n",
      "92.0                  0.827108                0.913524\n",
      "93.0                  0.822130                0.909802\n",
      "95.0                  0.812222                0.902310\n",
      "105.0                 0.807291                0.898542\n",
      "107.0                 0.797409                0.890929\n",
      "110.0                 0.792489                0.887102\n",
      "116.0                 0.787582                0.883262\n",
      "118.0                 0.782688                0.879409\n",
      "122.0                 0.777806                0.875544\n",
      "131.0                 0.772936                0.871667\n",
      "...                        ...                     ...\n",
      "558.0                 0.175760                0.308270\n",
      "559.0                 0.175760                0.308270\n",
      "567.0                 0.167780                0.299641\n",
      "574.0                 0.159871                0.290953\n",
      "583.0                 0.152035                0.282205\n",
      "588.0                 0.152035                0.282205\n",
      "613.0                 0.143874                0.273124\n",
      "624.0                 0.135802                0.263970\n",
      "641.0                 0.127821                0.254741\n",
      "643.0                 0.119932                0.245434\n",
      "654.0                 0.112140                0.236047\n",
      "655.0                 0.104447                0.226576\n",
      "687.0                 0.096856                0.217019\n",
      "689.0                 0.089374                0.207370\n",
      "705.0                 0.082004                0.197626\n",
      "707.0                 0.074755                0.187780\n",
      "728.0                 0.067632                0.177825\n",
      "731.0                 0.060647                0.167754\n",
      "735.0                 0.053809                0.157556\n",
      "740.0                 0.053809                0.157556\n",
      "765.0                 0.046276                0.146572\n",
      "791.0                 0.039007                0.135368\n",
      "806.0                 0.039007                0.135368\n",
      "814.0                 0.030728                0.123060\n",
      "821.0                 0.030728                0.123060\n",
      "840.0                 0.030728                0.123060\n",
      "883.0                 0.017866                0.108662\n",
      "965.0                 0.017866                0.108662\n",
      "1010.0                0.017866                0.108662\n",
      "1022.0                0.017866                0.108662\n",
      "\n",
      "[187 rows x 2 columns]\n"
     ]
    }
   ],
   "source": [
    "print (kmf.confidence_interval_)"
   ]
  },
  {
   "cell_type": "code",
   "execution_count": 44,
   "metadata": {},
   "outputs": [
    {
     "name": "stdout",
     "output_type": "stream",
     "text": [
      "          KM_estimate\n",
      "timeline             \n",
      "0.0          0.000000\n",
      "5.0          0.004386\n",
      "11.0         0.017544\n",
      "12.0         0.021930\n",
      "13.0         0.030702\n",
      "15.0         0.035088\n",
      "26.0         0.039474\n",
      "30.0         0.043860\n",
      "31.0         0.048246\n",
      "53.0         0.057018\n",
      "54.0         0.061404\n",
      "59.0         0.065789\n",
      "60.0         0.074561\n",
      "61.0         0.078947\n",
      "62.0         0.083333\n",
      "65.0         0.092105\n",
      "71.0         0.096491\n",
      "79.0         0.100877\n",
      "81.0         0.109649\n",
      "88.0         0.118421\n",
      "92.0         0.122807\n",
      "93.0         0.127215\n",
      "95.0         0.136031\n",
      "105.0        0.140439\n",
      "107.0        0.149300\n",
      "110.0        0.153731\n",
      "116.0        0.158162\n",
      "118.0        0.162593\n",
      "122.0        0.167023\n",
      "131.0        0.171454\n",
      "...               ...\n",
      "558.0        0.760782\n",
      "559.0        0.760782\n",
      "567.0        0.769326\n",
      "574.0        0.777869\n",
      "583.0        0.786413\n",
      "588.0        0.786413\n",
      "613.0        0.795312\n",
      "624.0        0.804212\n",
      "641.0        0.813111\n",
      "643.0        0.822011\n",
      "654.0        0.830910\n",
      "655.0        0.839810\n",
      "687.0        0.848709\n",
      "689.0        0.857608\n",
      "705.0        0.866508\n",
      "707.0        0.875407\n",
      "728.0        0.884307\n",
      "731.0        0.893206\n",
      "735.0        0.902106\n",
      "740.0        0.902106\n",
      "765.0        0.911895\n",
      "791.0        0.921685\n",
      "806.0        0.921685\n",
      "814.0        0.932873\n",
      "821.0        0.932873\n",
      "840.0        0.932873\n",
      "883.0        0.949654\n",
      "965.0        0.949654\n",
      "1010.0       0.949654\n",
      "1022.0       0.949654\n",
      "\n",
      "[187 rows x 1 columns]\n"
     ]
    }
   ],
   "source": [
    "# Probabaility of die :\n",
    "# p(1022) = p(0) +......+p(1022)\n",
    "print (kmf.cumulative_density_)"
   ]
  },
  {
   "cell_type": "code",
   "execution_count": 45,
   "metadata": {},
   "outputs": [
    {
     "name": "stdout",
     "output_type": "stream",
     "text": [
      "          NA_estimate\n",
      "timeline             \n",
      "0.0          0.000000\n",
      "5.0          0.004386\n",
      "11.0         0.017660\n",
      "12.0         0.022125\n",
      "13.0         0.031114\n",
      "15.0         0.035638\n",
      "26.0         0.040184\n",
      "30.0         0.044750\n",
      "31.0         0.049337\n",
      "53.0         0.058575\n",
      "54.0         0.063226\n",
      "59.0         0.067899\n",
      "60.0         0.077311\n",
      "61.0         0.082050\n",
      "62.0         0.086812\n",
      "65.0         0.096405\n",
      "71.0         0.101236\n",
      "79.0         0.106090\n",
      "81.0         0.115870\n",
      "88.0         0.125747\n",
      "92.0         0.130722\n",
      "93.0         0.135747\n",
      "95.0         0.145873\n",
      "105.0        0.150976\n",
      "107.0        0.161312\n",
      "110.0        0.166520\n",
      "116.0        0.171755\n",
      "118.0        0.177019\n",
      "122.0        0.182310\n",
      "131.0        0.187629\n",
      "...               ...\n",
      "558.0        1.420303\n",
      "559.0        1.420303\n",
      "567.0        1.456017\n",
      "574.0        1.493054\n",
      "583.0        1.531516\n",
      "588.0        1.531516\n",
      "613.0        1.573182\n",
      "624.0        1.616661\n",
      "641.0        1.662115\n",
      "643.0        1.709734\n",
      "654.0        1.759734\n",
      "655.0        1.812366\n",
      "687.0        1.867921\n",
      "689.0        1.926745\n",
      "705.0        1.989245\n",
      "707.0        2.055912\n",
      "728.0        2.127340\n",
      "731.0        2.204263\n",
      "735.0        2.287597\n",
      "740.0        2.287597\n",
      "765.0        2.387597\n",
      "791.0        2.498708\n",
      "806.0        2.498708\n",
      "814.0        2.641565\n",
      "821.0        2.641565\n",
      "840.0        2.641565\n",
      "883.0        2.891565\n",
      "965.0        2.891565\n",
      "1010.0       2.891565\n",
      "1022.0       2.891565\n",
      "\n",
      "[187 rows x 1 columns]\n"
     ]
    },
    {
     "data": {
      "text/plain": [
       "<matplotlib.axes._subplots.AxesSubplot at 0x7fe22af14f90>"
      ]
     },
     "execution_count": 45,
     "metadata": {},
     "output_type": "execute_result"
    },
    {
     "data": {
      "image/png": "[encoded data removed]",
      "text/plain": [
       "<Figure size 432x288 with 1 Axes>"
      ]
     },
     "metadata": {
      "needs_background": "light"
     },
     "output_type": "display_data"
    }
   ],
   "source": [
    "# Hazard FUnction :\n",
    "from lifelines import NelsonAalenFitter\n",
    "naf = NelsonAalenFitter()\n",
    "naf.fit(data[\"time\"],event_observed = data[\"dead\"])\n",
    "print (naf.cumulative_hazard_)\n",
    "naf.plot()"
   ]
  },
  {
   "cell_type": "code",
   "execution_count": null,
   "metadata": {},
   "outputs": [],
   "source": []
  },
  {
   "cell_type": "code",
   "execution_count": 46,
   "metadata": {},
   "outputs": [
    {
     "name": "stdout",
     "output_type": "stream",
     "text": [
      "          NA_estimate\n",
      "timeline             \n",
      "0.0          0.000000\n",
      "5.0          0.004386\n",
      "11.0         0.017660\n",
      "12.0         0.022125\n",
      "13.0         0.031114\n",
      "15.0         0.035638\n",
      "26.0         0.040184\n",
      "30.0         0.044750\n",
      "31.0         0.049337\n",
      "53.0         0.058575\n",
      "54.0         0.063226\n",
      "59.0         0.067899\n",
      "60.0         0.077311\n",
      "61.0         0.082050\n",
      "62.0         0.086812\n",
      "65.0         0.096405\n",
      "71.0         0.101236\n",
      "79.0         0.106090\n",
      "81.0         0.115870\n",
      "88.0         0.125747\n",
      "92.0         0.130722\n",
      "93.0         0.135747\n",
      "95.0         0.145873\n",
      "105.0        0.150976\n",
      "107.0        0.161312\n",
      "110.0        0.166520\n",
      "116.0        0.171755\n",
      "118.0        0.177019\n",
      "122.0        0.182310\n",
      "131.0        0.187629\n",
      "...               ...\n",
      "558.0        1.420303\n",
      "559.0        1.420303\n",
      "567.0        1.456017\n",
      "574.0        1.493054\n",
      "583.0        1.531516\n",
      "588.0        1.531516\n",
      "613.0        1.573182\n",
      "624.0        1.616661\n",
      "641.0        1.662115\n",
      "643.0        1.709734\n",
      "654.0        1.759734\n",
      "655.0        1.812366\n",
      "687.0        1.867921\n",
      "689.0        1.926745\n",
      "705.0        1.989245\n",
      "707.0        2.055912\n",
      "728.0        2.127340\n",
      "731.0        2.204263\n",
      "735.0        2.287597\n",
      "740.0        2.287597\n",
      "765.0        2.387597\n",
      "791.0        2.498708\n",
      "806.0        2.498708\n",
      "814.0        2.641565\n",
      "821.0        2.641565\n",
      "840.0        2.641565\n",
      "883.0        2.891565\n",
      "965.0        2.891565\n",
      "1010.0       2.891565\n",
      "1022.0       2.891565\n",
      "\n",
      "[187 rows x 1 columns]\n"
     ]
    },
    {
     "data": {
      "text/plain": [
       "<matplotlib.axes._subplots.AxesSubplot at 0x7fe22970c090>"
      ]
     },
     "execution_count": 46,
     "metadata": {},
     "output_type": "execute_result"
    },
    {
     "data": {
      "image/png": "[encoded data removed]",
      "text/plain": [
       "<Figure size 432x288 with 1 Axes>"
      ]
     },
     "metadata": {
      "needs_background": "light"
     },
     "output_type": "display_data"
    }
   ],
   "source": [
    "# Hazard FUnction :\n",
    "from lifelines import NelsonAalenFitter\n",
    "naf = NelsonAalenFitter()\n",
    "naf.fit(data[\"time\"],event_observed = data[\"dead\"])\n",
    "print (naf.cumulative_hazard_)\n",
    "naf.plot()"
   ]
  },
  {
   "cell_type": "code",
   "execution_count": 47,
   "metadata": {},
   "outputs": [
    {
     "name": "stdout",
     "output_type": "stream",
     "text": [
      "2.8915648373471052\n"
     ]
    }
   ],
   "source": [
    "# We can predict the value of a certain point :\n",
    "print (naf.predict(1022))"
   ]
  },
  {
   "cell_type": "code",
   "execution_count": null,
   "metadata": {},
   "outputs": [],
   "source": []
  }
 ],
 "metadata": {
  "kernelspec": {
   "display_name": "Python 3",
   "language": "python",
   "name": "python3"
  },
  "language_info": {
   "codemirror_mode": {
    "name": "ipython",
    "version": 3
   },
   "file_extension": ".py",
   "mimetype": "text/x-python",
   "name": "python",
   "nbconvert_exporter": "python",
   "pygments_lexer": "ipython3",
   "version": "3.7.6"
  }
 },
 "nbformat": 4,
 "nbformat_minor": 2
}
